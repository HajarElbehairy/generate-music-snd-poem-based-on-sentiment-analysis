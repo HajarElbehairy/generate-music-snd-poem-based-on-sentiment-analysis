{
 "cells": [
  {
   "cell_type": "code",
   "execution_count": 1,
   "id": "06296b1e",
   "metadata": {
    "execution": {
     "iopub.execute_input": "2023-10-27T18:26:42.453198Z",
     "iopub.status.busy": "2023-10-27T18:26:42.452288Z",
     "iopub.status.idle": "2023-10-27T18:28:14.580760Z",
     "shell.execute_reply": "2023-10-27T18:28:14.579365Z"
    },
    "id": "o5bh4W90uGan",
    "papermill": {
     "duration": 92.154037,
     "end_time": "2023-10-27T18:28:14.584171",
     "exception": false,
     "start_time": "2023-10-27T18:26:42.430134",
     "status": "completed"
    },
    "tags": []
   },
   "outputs": [
    {
     "name": "stdout",
     "output_type": "stream",
     "text": [
      "Collecting music21\r\n",
      "  Downloading music21-9.1.0-py3-none-any.whl (22.8 MB)\r\n",
      "\u001b[2K     \u001b[90m━━━━━━━━━━━━━━━━━━━━━━━━━━━━━━━━━━━━━━━━\u001b[0m \u001b[32m22.8/22.8 MB\u001b[0m \u001b[31m37.2 MB/s\u001b[0m eta \u001b[36m0:00:00\u001b[0m\r\n",
      "\u001b[?25hCollecting chardet (from music21)\r\n",
      "  Downloading chardet-5.2.0-py3-none-any.whl (199 kB)\r\n",
      "\u001b[2K     \u001b[90m━━━━━━━━━━━━━━━━━━━━━━━━━━━━━━━━━━━━━━\u001b[0m \u001b[32m199.4/199.4 kB\u001b[0m \u001b[31m13.0 MB/s\u001b[0m eta \u001b[36m0:00:00\u001b[0m\r\n",
      "\u001b[?25hRequirement already satisfied: joblib in /opt/conda/lib/python3.10/site-packages (from music21) (1.3.2)\r\n",
      "Collecting jsonpickle (from music21)\r\n",
      "  Downloading jsonpickle-3.0.2-py3-none-any.whl (40 kB)\r\n",
      "\u001b[2K     \u001b[90m━━━━━━━━━━━━━━━━━━━━━━━━━━━━━━━━━━━━━━━━\u001b[0m \u001b[32m40.7/40.7 kB\u001b[0m \u001b[31m2.7 MB/s\u001b[0m eta \u001b[36m0:00:00\u001b[0m\r\n",
      "\u001b[?25hRequirement already satisfied: matplotlib in /opt/conda/lib/python3.10/site-packages (from music21) (3.7.2)\r\n",
      "Requirement already satisfied: more-itertools in /opt/conda/lib/python3.10/site-packages (from music21) (9.1.0)\r\n",
      "Requirement already satisfied: numpy in /opt/conda/lib/python3.10/site-packages (from music21) (1.23.5)\r\n",
      "Requirement already satisfied: requests in /opt/conda/lib/python3.10/site-packages (from music21) (2.31.0)\r\n",
      "Requirement already satisfied: webcolors>=1.5 in /opt/conda/lib/python3.10/site-packages (from music21) (1.13)\r\n",
      "Requirement already satisfied: contourpy>=1.0.1 in /opt/conda/lib/python3.10/site-packages (from matplotlib->music21) (1.1.0)\r\n",
      "Requirement already satisfied: cycler>=0.10 in /opt/conda/lib/python3.10/site-packages (from matplotlib->music21) (0.11.0)\r\n",
      "Requirement already satisfied: fonttools>=4.22.0 in /opt/conda/lib/python3.10/site-packages (from matplotlib->music21) (4.40.0)\r\n",
      "Requirement already satisfied: kiwisolver>=1.0.1 in /opt/conda/lib/python3.10/site-packages (from matplotlib->music21) (1.4.4)\r\n",
      "Requirement already satisfied: packaging>=20.0 in /opt/conda/lib/python3.10/site-packages (from matplotlib->music21) (21.3)\r\n",
      "Requirement already satisfied: pillow>=6.2.0 in /opt/conda/lib/python3.10/site-packages (from matplotlib->music21) (9.5.0)\r\n",
      "Requirement already satisfied: pyparsing<3.1,>=2.3.1 in /opt/conda/lib/python3.10/site-packages (from matplotlib->music21) (3.0.9)\r\n",
      "Requirement already satisfied: python-dateutil>=2.7 in /opt/conda/lib/python3.10/site-packages (from matplotlib->music21) (2.8.2)\r\n",
      "Requirement already satisfied: charset-normalizer<4,>=2 in /opt/conda/lib/python3.10/site-packages (from requests->music21) (3.1.0)\r\n",
      "Requirement already satisfied: idna<4,>=2.5 in /opt/conda/lib/python3.10/site-packages (from requests->music21) (3.4)\r\n",
      "Requirement already satisfied: urllib3<3,>=1.21.1 in /opt/conda/lib/python3.10/site-packages (from requests->music21) (1.26.15)\r\n",
      "Requirement already satisfied: certifi>=2017.4.17 in /opt/conda/lib/python3.10/site-packages (from requests->music21) (2023.7.22)\r\n",
      "Requirement already satisfied: six>=1.5 in /opt/conda/lib/python3.10/site-packages (from python-dateutil>=2.7->matplotlib->music21) (1.16.0)\r\n",
      "Installing collected packages: jsonpickle, chardet, music21\r\n",
      "Successfully installed chardet-5.2.0 jsonpickle-3.0.2 music21-9.1.0\r\n",
      "\r\n",
      "\r\n",
      "\r\n",
      "The following additional packages will be installed:\r\n",
      "  fonts-droid-fallback fonts-noto-mono fonts-urw-base35 ghostscript\r\n",
      "  libauthen-sasl-perl libdata-dump-perl libencode-locale-perl\r\n",
      "  libfile-listing-perl libfont-afm-perl libgs9 libgs9-common libhtml-form-perl\r\n",
      "  libhtml-format-perl libhtml-parser-perl libhtml-tagset-perl\r\n",
      "  libhtml-tree-perl libhttp-cookies-perl libhttp-daemon-perl libhttp-date-perl\r\n",
      "  libhttp-message-perl libhttp-negotiate-perl libidn11 libijs-0.35\r\n",
      "  libio-html-perl libio-socket-ssl-perl libjbig2dec0 liblwp-mediatypes-perl\r\n",
      "  liblwp-protocol-https-perl libmailtools-perl libnet-http-perl\r\n",
      "  libnet-smtp-ssl-perl libnet-ssleay-perl libpython2-stdlib\r\n",
      "  libpython2.7-minimal libpython2.7-stdlib libtext-unidecode-perl\r\n",
      "  libtimedate-perl libtry-tiny-perl liburi-perl libwww-perl\r\n",
      "  libwww-robotrules-perl libxml-libxml-perl libxml-namespacesupport-perl\r\n",
      "  libxml-parser-perl libxml-sax-base-perl libxml-sax-expat-perl\r\n",
      "  libxml-sax-perl lilypond-data netbase perl-openssl-defaults poppler-data\r\n",
      "  python2 python2-minimal python2.7 python2.7-minimal texinfo\r\n",
      "Suggested packages:\r\n",
      "  fonts-noto fonts-freefont-otf | fonts-freefont-ttf fonts-texgyre\r\n",
      "  ghostscript-x libdigest-hmac-perl libgssapi-perl libcrypt-ssleay-perl\r\n",
      "  libauthen-ntlm-perl libxml-sax-expatxs-perl lilypond-doc poppler-utils\r\n",
      "  fonts-japanese-mincho | fonts-ipafont-mincho fonts-japanese-gothic\r\n",
      "  | fonts-ipafont-gothic fonts-arphic-ukai fonts-arphic-uming fonts-nanum\r\n",
      "  python2-doc python-tk python2.7-doc binfmt-support texlive-plain-generic\r\n",
      "The following NEW packages will be installed:\r\n",
      "  fonts-droid-fallback fonts-noto-mono fonts-urw-base35 ghostscript\r\n",
      "  libauthen-sasl-perl libdata-dump-perl libencode-locale-perl\r\n",
      "  libfile-listing-perl libfont-afm-perl libgs9 libgs9-common libhtml-form-perl\r\n",
      "  libhtml-format-perl libhtml-parser-perl libhtml-tagset-perl\r\n",
      "  libhtml-tree-perl libhttp-cookies-perl libhttp-daemon-perl libhttp-date-perl\r\n",
      "  libhttp-message-perl libhttp-negotiate-perl libidn11 libijs-0.35\r\n",
      "  libio-html-perl libio-socket-ssl-perl libjbig2dec0 liblwp-mediatypes-perl\r\n",
      "  liblwp-protocol-https-perl libmailtools-perl libnet-http-perl\r\n",
      "  libnet-smtp-ssl-perl libnet-ssleay-perl libpython2-stdlib\r\n",
      "  libpython2.7-minimal libpython2.7-stdlib libtext-unidecode-perl\r\n",
      "  libtimedate-perl libtry-tiny-perl liburi-perl libwww-perl\r\n",
      "  libwww-robotrules-perl libxml-libxml-perl libxml-namespacesupport-perl\r\n",
      "  libxml-parser-perl libxml-sax-base-perl libxml-sax-expat-perl\r\n",
      "  libxml-sax-perl lilypond lilypond-data netbase perl-openssl-defaults\r\n",
      "  poppler-data python2 python2-minimal python2.7 python2.7-minimal texinfo\r\n",
      "0 upgraded, 57 newly installed, 0 to remove and 40 not upgraded.\r\n",
      "Need to get 25.1 MB of archives.\r\n",
      "After this operation, 107 MB of additional disk space will be used.\r\n",
      "Get:1 http://archive.ubuntu.com/ubuntu focal/main amd64 fonts-droid-fallback all 1:6.0.1r16-1.1 [1805 kB]\r\n",
      "Get:2 http://archive.ubuntu.com/ubuntu focal/main amd64 poppler-data all 0.4.9-2 [1475 kB]\r\n",
      "Get:3 http://archive.ubuntu.com/ubuntu focal-updates/universe amd64 libpython2.7-minimal amd64 2.7.18-1~20.04.3 [336 kB]\r\n",
      "Get:4 http://archive.ubuntu.com/ubuntu focal-updates/universe amd64 python2.7-minimal amd64 2.7.18-1~20.04.3 [1280 kB]\r\n",
      "Get:5 http://archive.ubuntu.com/ubuntu focal/universe amd64 python2-minimal amd64 2.7.17-2ubuntu4 [27.5 kB]\r\n",
      "Get:6 http://archive.ubuntu.com/ubuntu focal-updates/universe amd64 libpython2.7-stdlib amd64 2.7.18-1~20.04.3 [1888 kB]\r\n",
      "Get:7 http://archive.ubuntu.com/ubuntu focal-updates/universe amd64 python2.7 amd64 2.7.18-1~20.04.3 [248 kB]\r\n",
      "Get:8 http://archive.ubuntu.com/ubuntu focal/universe amd64 libpython2-stdlib amd64 2.7.17-2ubuntu4 [7072 B]\r\n",
      "Get:9 http://archive.ubuntu.com/ubuntu focal/universe amd64 python2 amd64 2.7.17-2ubuntu4 [26.5 kB]\r\n",
      "Get:10 http://archive.ubuntu.com/ubuntu focal/main amd64 netbase all 6.1 [13.1 kB]\r\n",
      "Get:11 http://archive.ubuntu.com/ubuntu focal-updates/main amd64 fonts-noto-mono all 20200323-1build1~ubuntu20.04.1 [80.6 kB]\r\n",
      "Get:12 http://archive.ubuntu.com/ubuntu focal/main amd64 fonts-urw-base35 all 20170801.1-3 [6333 kB]\r\n",
      "Ign:13 http://archive.ubuntu.com/ubuntu focal-updates/main amd64 libgs9-common all 9.50~dfsg-5ubuntu4.9\r\n",
      "Get:14 http://archive.ubuntu.com/ubuntu focal/main amd64 libidn11 amd64 1.33-2.2ubuntu2 [46.2 kB]\r\n",
      "Get:15 http://archive.ubuntu.com/ubuntu focal/main amd64 libijs-0.35 amd64 0.35-15 [15.7 kB]\r\n",
      "Get:16 http://archive.ubuntu.com/ubuntu focal/main amd64 libjbig2dec0 amd64 0.18-1ubuntu1 [60.0 kB]\r\n",
      "Ign:17 http://archive.ubuntu.com/ubuntu focal-updates/main amd64 libgs9 amd64 9.50~dfsg-5ubuntu4.9\r\n",
      "Ign:18 http://archive.ubuntu.com/ubuntu focal-updates/main amd64 ghostscript amd64 9.50~dfsg-5ubuntu4.9\r\n",
      "Get:19 http://archive.ubuntu.com/ubuntu focal/main amd64 libdata-dump-perl all 1.23-1 [27.0 kB]\r\n",
      "Get:20 http://archive.ubuntu.com/ubuntu focal/main amd64 libencode-locale-perl all 1.05-1 [12.3 kB]\r\n",
      "Get:21 http://archive.ubuntu.com/ubuntu focal/main amd64 libtimedate-perl all 2.3200-1 [34.0 kB]\r\n",
      "Get:22 http://archive.ubuntu.com/ubuntu focal/main amd64 libhttp-date-perl all 6.05-1 [9920 B]\r\n",
      "Err:13 http://security.ubuntu.com/ubuntu focal-updates/main amd64 libgs9-common all 9.50~dfsg-5ubuntu4.9\r\n",
      "  404  Not Found [IP: 185.125.190.39 80]\r\n",
      "Get:23 http://archive.ubuntu.com/ubuntu focal/main amd64 libfile-listing-perl all 6.04-1 [9774 B]\r\n",
      "Err:17 http://security.ubuntu.com/ubuntu focal-updates/main amd64 libgs9 amd64 9.50~dfsg-5ubuntu4.9\r\n",
      "  404  Not Found [IP: 185.125.190.39 80]\r\n",
      "Err:18 http://security.ubuntu.com/ubuntu focal-updates/main amd64 ghostscript amd64 9.50~dfsg-5ubuntu4.9\r\n",
      "  404  Not Found [IP: 185.125.190.39 80]\r\n",
      "Get:24 http://archive.ubuntu.com/ubuntu focal/main amd64 libfont-afm-perl all 1.20-2 [13.2 kB]\r\n",
      "Get:25 http://archive.ubuntu.com/ubuntu focal/main amd64 libhtml-tagset-perl all 3.20-4 [12.5 kB]\r\n",
      "Get:26 http://archive.ubuntu.com/ubuntu focal/main amd64 liburi-perl all 1.76-2 [77.5 kB]\r\n",
      "Get:27 http://archive.ubuntu.com/ubuntu focal/main amd64 libhtml-parser-perl amd64 3.72-5 [86.3 kB]\r\n",
      "Get:28 http://archive.ubuntu.com/ubuntu focal/main amd64 libio-html-perl all 1.001-1 [14.9 kB]\r\n",
      "Get:29 http://archive.ubuntu.com/ubuntu focal/main amd64 liblwp-mediatypes-perl all 6.04-1 [19.5 kB]\r\n",
      "Get:30 http://archive.ubuntu.com/ubuntu focal/main amd64 libhttp-message-perl all 6.22-1 [76.1 kB]\r\n",
      "Get:31 http://archive.ubuntu.com/ubuntu focal/main amd64 libhtml-form-perl all 6.07-1 [22.2 kB]\r\n",
      "Get:32 http://archive.ubuntu.com/ubuntu focal/main amd64 libhtml-tree-perl all 5.07-2 [200 kB]\r\n",
      "Get:33 http://archive.ubuntu.com/ubuntu focal/main amd64 libhtml-format-perl all 2.12-1 [41.3 kB]\r\n",
      "Get:34 http://archive.ubuntu.com/ubuntu focal/main amd64 libhttp-cookies-perl all 6.08-1 [18.3 kB]\r\n",
      "Get:35 http://archive.ubuntu.com/ubuntu focal-updates/main amd64 libhttp-daemon-perl all 6.06-1ubuntu0.1 [22.0 kB]\r\n",
      "Get:36 http://archive.ubuntu.com/ubuntu focal/main amd64 libhttp-negotiate-perl all 6.01-1 [12.5 kB]\r\n",
      "Get:37 http://archive.ubuntu.com/ubuntu focal/main amd64 perl-openssl-defaults amd64 4 [7192 B]\r\n",
      "Get:38 http://archive.ubuntu.com/ubuntu focal/main amd64 libnet-ssleay-perl amd64 1.88-2ubuntu1 [291 kB]\r\n",
      "Get:39 http://archive.ubuntu.com/ubuntu focal/main amd64 libio-socket-ssl-perl all 2.067-1 [176 kB]\r\n",
      "Get:40 http://archive.ubuntu.com/ubuntu focal/main amd64 libnet-http-perl all 6.19-1 [22.8 kB]\r\n",
      "Get:41 http://archive.ubuntu.com/ubuntu focal/main amd64 libtry-tiny-perl all 0.30-1 [20.5 kB]\r\n",
      "Get:42 http://archive.ubuntu.com/ubuntu focal/main amd64 libwww-robotrules-perl all 6.02-1 [12.6 kB]\r\n",
      "Get:43 http://archive.ubuntu.com/ubuntu focal/main amd64 libwww-perl all 6.43-1 [140 kB]\r\n",
      "Get:44 http://archive.ubuntu.com/ubuntu focal/main amd64 liblwp-protocol-https-perl all 6.07-2ubuntu2 [8560 B]\r\n",
      "Get:45 http://archive.ubuntu.com/ubuntu focal/main amd64 libnet-smtp-ssl-perl all 1.04-1 [5948 B]\r\n",
      "Get:46 http://archive.ubuntu.com/ubuntu focal/main amd64 libmailtools-perl all 2.21-1 [80.7 kB]\r\n",
      "Get:47 http://archive.ubuntu.com/ubuntu focal/universe amd64 libtext-unidecode-perl all 1.30-1 [99.0 kB]\r\n",
      "Get:48 http://archive.ubuntu.com/ubuntu focal/main amd64 libxml-namespacesupport-perl all 1.12-1 [13.2 kB]\r\n",
      "Get:49 http://archive.ubuntu.com/ubuntu focal/main amd64 libxml-sax-base-perl all 1.09-1 [18.8 kB]\r\n",
      "Get:50 http://archive.ubuntu.com/ubuntu focal/main amd64 libxml-sax-perl all 1.02+dfsg-1 [56.2 kB]\r\n",
      "Get:51 http://archive.ubuntu.com/ubuntu focal/main amd64 libxml-libxml-perl amd64 2.0134+dfsg-1build1 [320 kB]\r\n",
      "Get:52 http://archive.ubuntu.com/ubuntu focal/main amd64 libxml-parser-perl amd64 2.46-1 [193 kB]\r\n",
      "Get:53 http://archive.ubuntu.com/ubuntu focal/main amd64 libxml-sax-expat-perl all 0.51-1 [10.5 kB]\r\n",
      "Get:54 http://archive.ubuntu.com/ubuntu focal/universe amd64 texinfo amd64 6.7.0.dfsg.2-5 [1375 kB]\r\n",
      "Get:55 http://archive.ubuntu.com/ubuntu focal/universe amd64 lilypond-data all 2.20.0-1 [2786 kB]\r\n",
      "Get:56 http://archive.ubuntu.com/ubuntu focal/universe amd64 lilypond amd64 2.20.0-1 [2117 kB]\r\n",
      "Get:57 http://archive.ubuntu.com/ubuntu focal/main amd64 libauthen-sasl-perl all 2.1600-1 [48.7 kB]\r\n",
      "Fetched 22.2 MB in 9s (2430 kB/s)\r\n",
      "E: Failed to fetch http://security.ubuntu.com/ubuntu/pool/main/g/ghostscript/libgs9-common_9.50~dfsg-5ubuntu4.9_all.deb  404  Not Found [IP: 185.125.190.39 80]\r\n",
      "E: Failed to fetch http://security.ubuntu.com/ubuntu/pool/main/g/ghostscript/libgs9_9.50~dfsg-5ubuntu4.9_amd64.deb  404  Not Found [IP: 185.125.190.39 80]\r\n",
      "E: Failed to fetch http://security.ubuntu.com/ubuntu/pool/main/g/ghostscript/ghostscript_9.50~dfsg-5ubuntu4.9_amd64.deb  404  Not Found [IP: 185.125.190.39 80]\r\n",
      "E: Unable to fetch some archives, maybe run apt-get update or try with --fix-missing?\r\n",
      "Collecting midi2audio\r\n",
      "  Downloading midi2audio-0.1.1-py2.py3-none-any.whl (8.7 kB)\r\n",
      "Installing collected packages: midi2audio\r\n",
      "Successfully installed midi2audio-0.1.1\r\n",
      "\r\n",
      "\r\n",
      "\r\n",
      "The following additional packages will be installed:\r\n",
      "  fluid-soundfont-gm libdouble-conversion3 libegl-mesa0 libegl1 libevdev2\r\n",
      "  libfluidsynth2 libgbm1 libgudev-1.0-0 libinput-bin libinput10\r\n",
      "  libinstpatch-1.0-2 libmtdev1 libpcre2-16-0 libqt5core5a libqt5dbus5\r\n",
      "  libqt5gui5 libqt5network5 libqt5svg5 libqt5widgets5 libwacom-bin\r\n",
      "  libwacom-common libwacom2 libwayland-server0 libxcb-icccm4 libxcb-image0\r\n",
      "  libxcb-keysyms1 libxcb-render-util0 libxcb-util1 libxcb-xinerama0\r\n",
      "  libxcb-xinput0 libxcb-xkb1 libxkbcommon-x11-0 qsynth qt5-gtk-platformtheme\r\n",
      "  qttranslations5-l10n timgm6mb-soundfont\r\n",
      "Suggested packages:\r\n",
      "  fluid-soundfont-gs timidity qt5-image-formats-plugins qtwayland5 jackd\r\n",
      "  musescore\r\n",
      "The following NEW packages will be installed:\r\n",
      "  fluid-soundfont-gm fluidsynth libdouble-conversion3 libegl-mesa0 libegl1\r\n",
      "  libevdev2 libfluidsynth2 libgbm1 libgudev-1.0-0 libinput-bin libinput10\r\n",
      "  libinstpatch-1.0-2 libmtdev1 libpcre2-16-0 libqt5core5a libqt5dbus5\r\n",
      "  libqt5gui5 libqt5network5 libqt5svg5 libqt5widgets5 libwacom-bin\r\n",
      "  libwacom-common libwacom2 libwayland-server0 libxcb-icccm4 libxcb-image0\r\n",
      "  libxcb-keysyms1 libxcb-render-util0 libxcb-util1 libxcb-xinerama0\r\n",
      "  libxcb-xinput0 libxcb-xkb1 libxkbcommon-x11-0 qsynth qt5-gtk-platformtheme\r\n",
      "  qttranslations5-l10n timgm6mb-soundfont\r\n",
      "0 upgraded, 37 newly installed, 0 to remove and 40 not upgraded.\r\n",
      "Need to get 136 MB of archives.\r\n",
      "After this operation, 204 MB of additional disk space will be used.\r\n",
      "Get:1 http://archive.ubuntu.com/ubuntu focal/universe amd64 libdouble-conversion3 amd64 3.1.5-4ubuntu1 [37.9 kB]\r\n",
      "Get:2 http://archive.ubuntu.com/ubuntu focal-updates/main amd64 libpcre2-16-0 amd64 10.34-7ubuntu0.1 [181 kB]\r\n",
      "Get:3 http://archive.ubuntu.com/ubuntu focal-updates/universe amd64 libqt5core5a amd64 5.12.8+dfsg-0ubuntu2.1 [2006 kB]\r\n",
      "Get:4 http://archive.ubuntu.com/ubuntu focal-updates/main amd64 libwayland-server0 amd64 1.18.0-1ubuntu0.1 [31.3 kB]\r\n",
      "Get:5 http://archive.ubuntu.com/ubuntu focal-updates/main amd64 libgbm1 amd64 21.2.6-0ubuntu0.1~20.04.2 [29.2 kB]\r\n",
      "Get:6 http://archive.ubuntu.com/ubuntu focal-updates/main amd64 libegl-mesa0 amd64 21.2.6-0ubuntu0.1~20.04.2 [96.3 kB]\r\n",
      "Get:7 http://archive.ubuntu.com/ubuntu focal-updates/main amd64 libegl1 amd64 1.3.2-1~ubuntu0.20.04.2 [31.9 kB]\r\n",
      "Get:8 http://archive.ubuntu.com/ubuntu focal-updates/main amd64 libevdev2 amd64 1.9.0+dfsg-1ubuntu0.2 [31.6 kB]\r\n",
      "Get:9 http://archive.ubuntu.com/ubuntu focal/main amd64 libmtdev1 amd64 1.1.5-1.1 [14.2 kB]\r\n",
      "Get:10 http://archive.ubuntu.com/ubuntu focal/main amd64 libgudev-1.0-0 amd64 1:233-1 [14.0 kB]\r\n",
      "Get:11 http://archive.ubuntu.com/ubuntu focal-updates/main amd64 libwacom-common all 1.3-2ubuntu3 [45.3 kB]\r\n",
      "Get:12 http://archive.ubuntu.com/ubuntu focal-updates/main amd64 libwacom2 amd64 1.3-2ubuntu3 [20.0 kB]\r\n",
      "Get:13 http://archive.ubuntu.com/ubuntu focal-updates/main amd64 libinput-bin amd64 1.15.5-1ubuntu0.3 [19.3 kB]\r\n",
      "Get:14 http://archive.ubuntu.com/ubuntu focal-updates/main amd64 libinput10 amd64 1.15.5-1ubuntu0.3 [112 kB]\r\n",
      "Get:15 http://archive.ubuntu.com/ubuntu focal-updates/universe amd64 libqt5dbus5 amd64 5.12.8+dfsg-0ubuntu2.1 [208 kB]\r\n",
      "Get:16 http://archive.ubuntu.com/ubuntu focal-updates/universe amd64 libqt5network5 amd64 5.12.8+dfsg-0ubuntu2.1 [673 kB]\r\n",
      "Get:17 http://archive.ubuntu.com/ubuntu focal/main amd64 libxcb-icccm4 amd64 0.4.1-1.1 [10.8 kB]\r\n",
      "Get:18 http://archive.ubuntu.com/ubuntu focal/main amd64 libxcb-util1 amd64 0.4.0-0ubuntu3 [11.2 kB]\r\n",
      "Get:19 http://archive.ubuntu.com/ubuntu focal/main amd64 libxcb-image0 amd64 0.4.0-1build1 [12.3 kB]\r\n",
      "Get:20 http://archive.ubuntu.com/ubuntu focal/main amd64 libxcb-keysyms1 amd64 0.4.0-1build1 [8452 B]\r\n",
      "Get:21 http://archive.ubuntu.com/ubuntu focal/main amd64 libxcb-render-util0 amd64 0.3.9-1build1 [9912 B]\r\n",
      "Get:22 http://archive.ubuntu.com/ubuntu focal/main amd64 libxcb-xinerama0 amd64 1.14-2 [5260 B]\r\n",
      "Get:23 http://archive.ubuntu.com/ubuntu focal/main amd64 libxcb-xinput0 amd64 1.14-2 [29.3 kB]\r\n",
      "Get:24 http://archive.ubuntu.com/ubuntu focal/main amd64 libxcb-xkb1 amd64 1.14-2 [29.6 kB]\r\n",
      "Get:25 http://archive.ubuntu.com/ubuntu focal/main amd64 libxkbcommon-x11-0 amd64 0.10.0-1 [13.4 kB]\r\n",
      "Get:26 http://archive.ubuntu.com/ubuntu focal-updates/universe amd64 libqt5gui5 amd64 5.12.8+dfsg-0ubuntu2.1 [2971 kB]\r\n",
      "Get:27 http://archive.ubuntu.com/ubuntu focal-updates/universe amd64 libqt5widgets5 amd64 5.12.8+dfsg-0ubuntu2.1 [2295 kB]\r\n",
      "Get:28 http://archive.ubuntu.com/ubuntu focal/universe amd64 libqt5svg5 amd64 5.12.8-0ubuntu1 [131 kB]\r\n",
      "Get:29 http://archive.ubuntu.com/ubuntu focal/universe amd64 fluid-soundfont-gm all 3.1-5.1 [119 MB]\r\n",
      "Get:30 http://archive.ubuntu.com/ubuntu focal/universe amd64 libinstpatch-1.0-2 amd64 1.1.2-2build1 [238 kB]\r\n",
      "Get:31 http://archive.ubuntu.com/ubuntu focal/universe amd64 timgm6mb-soundfont all 1.3-3 [5420 kB]\r\n",
      "Get:32 http://archive.ubuntu.com/ubuntu focal/universe amd64 libfluidsynth2 amd64 2.1.1-2 [198 kB]\r\n",
      "Get:33 http://archive.ubuntu.com/ubuntu focal/universe amd64 fluidsynth amd64 2.1.1-2 [25.6 kB]\r\n",
      "Get:34 http://archive.ubuntu.com/ubuntu focal-updates/main amd64 libwacom-bin amd64 1.3-2ubuntu3 [5484 B]\r\n",
      "Get:35 http://archive.ubuntu.com/ubuntu focal/universe amd64 qsynth amd64 0.6.1-1build1 [245 kB]\r\n",
      "Get:36 http://archive.ubuntu.com/ubuntu focal-updates/universe amd64 qt5-gtk-platformtheme amd64 5.12.8+dfsg-0ubuntu2.1 [124 kB]\r\n",
      "Get:37 http://archive.ubuntu.com/ubuntu focal/universe amd64 qttranslations5-l10n all 5.12.8-0ubuntu1 [1486 kB]\r\n",
      "Fetched 136 MB in 5s (25.1 MB/s)\r\n",
      "Extracting templates from packages: 100%\r\n",
      "Selecting previously unselected package libdouble-conversion3:amd64.\r\n",
      "(Reading database ... 107763 files and directories currently installed.)\r\n",
      "Preparing to unpack .../00-libdouble-conversion3_3.1.5-4ubuntu1_amd64.deb ...\r\n",
      "Unpacking libdouble-conversion3:amd64 (3.1.5-4ubuntu1) ...\r\n",
      "Selecting previously unselected package libpcre2-16-0:amd64.\r\n",
      "Preparing to unpack .../01-libpcre2-16-0_10.34-7ubuntu0.1_amd64.deb ...\r\n",
      "Unpacking libpcre2-16-0:amd64 (10.34-7ubuntu0.1) ...\r\n",
      "Selecting previously unselected package libqt5core5a:amd64.\r\n",
      "Preparing to unpack .../02-libqt5core5a_5.12.8+dfsg-0ubuntu2.1_amd64.deb ...\r\n",
      "Unpacking libqt5core5a:amd64 (5.12.8+dfsg-0ubuntu2.1) ...\r\n",
      "Selecting previously unselected package libwayland-server0:amd64.\r\n",
      "Preparing to unpack .../03-libwayland-server0_1.18.0-1ubuntu0.1_amd64.deb ...\r\n",
      "Unpacking libwayland-server0:amd64 (1.18.0-1ubuntu0.1) ...\r\n",
      "Selecting previously unselected package libgbm1:amd64.\r\n",
      "Preparing to unpack .../04-libgbm1_21.2.6-0ubuntu0.1~20.04.2_amd64.deb ...\r\n",
      "Unpacking libgbm1:amd64 (21.2.6-0ubuntu0.1~20.04.2) ...\r\n",
      "Selecting previously unselected package libegl-mesa0:amd64.\r\n",
      "Preparing to unpack .../05-libegl-mesa0_21.2.6-0ubuntu0.1~20.04.2_amd64.deb ...\r\n",
      "Unpacking libegl-mesa0:amd64 (21.2.6-0ubuntu0.1~20.04.2) ...\r\n",
      "Selecting previously unselected package libegl1:amd64.\r\n",
      "Preparing to unpack .../06-libegl1_1.3.2-1~ubuntu0.20.04.2_amd64.deb ...\r\n",
      "Unpacking libegl1:amd64 (1.3.2-1~ubuntu0.20.04.2) ...\r\n",
      "Selecting previously unselected package libevdev2:amd64.\r\n",
      "Preparing to unpack .../07-libevdev2_1.9.0+dfsg-1ubuntu0.2_amd64.deb ...\r\n",
      "Unpacking libevdev2:amd64 (1.9.0+dfsg-1ubuntu0.2) ...\r\n",
      "Selecting previously unselected package libmtdev1:amd64.\r\n",
      "Preparing to unpack .../08-libmtdev1_1.1.5-1.1_amd64.deb ...\r\n",
      "Unpacking libmtdev1:amd64 (1.1.5-1.1) ...\r\n",
      "Selecting previously unselected package libgudev-1.0-0:amd64.\r\n",
      "Preparing to unpack .../09-libgudev-1.0-0_1%3a233-1_amd64.deb ...\r\n",
      "Unpacking libgudev-1.0-0:amd64 (1:233-1) ...\r\n",
      "Selecting previously unselected package libwacom-common.\r\n",
      "Preparing to unpack .../10-libwacom-common_1.3-2ubuntu3_all.deb ...\r\n",
      "Unpacking libwacom-common (1.3-2ubuntu3) ...\r\n",
      "Selecting previously unselected package libwacom2:amd64.\r\n",
      "Preparing to unpack .../11-libwacom2_1.3-2ubuntu3_amd64.deb ...\r\n",
      "Unpacking libwacom2:amd64 (1.3-2ubuntu3) ...\r\n",
      "Selecting previously unselected package libinput-bin.\r\n",
      "Preparing to unpack .../12-libinput-bin_1.15.5-1ubuntu0.3_amd64.deb ...\r\n",
      "Unpacking libinput-bin (1.15.5-1ubuntu0.3) ...\r\n",
      "Selecting previously unselected package libinput10:amd64.\r\n",
      "Preparing to unpack .../13-libinput10_1.15.5-1ubuntu0.3_amd64.deb ...\r\n",
      "Unpacking libinput10:amd64 (1.15.5-1ubuntu0.3) ...\r\n",
      "Selecting previously unselected package libqt5dbus5:amd64.\r\n",
      "Preparing to unpack .../14-libqt5dbus5_5.12.8+dfsg-0ubuntu2.1_amd64.deb ...\r\n",
      "Unpacking libqt5dbus5:amd64 (5.12.8+dfsg-0ubuntu2.1) ...\r\n",
      "Selecting previously unselected package libqt5network5:amd64.\r\n",
      "Preparing to unpack .../15-libqt5network5_5.12.8+dfsg-0ubuntu2.1_amd64.deb ...\r\n",
      "Unpacking libqt5network5:amd64 (5.12.8+dfsg-0ubuntu2.1) ...\r\n",
      "Selecting previously unselected package libxcb-icccm4:amd64.\r\n",
      "Preparing to unpack .../16-libxcb-icccm4_0.4.1-1.1_amd64.deb ...\r\n",
      "Unpacking libxcb-icccm4:amd64 (0.4.1-1.1) ...\r\n",
      "Selecting previously unselected package libxcb-util1:amd64.\r\n",
      "Preparing to unpack .../17-libxcb-util1_0.4.0-0ubuntu3_amd64.deb ...\r\n",
      "Unpacking libxcb-util1:amd64 (0.4.0-0ubuntu3) ...\r\n",
      "Selecting previously unselected package libxcb-image0:amd64.\r\n",
      "Preparing to unpack .../18-libxcb-image0_0.4.0-1build1_amd64.deb ...\r\n",
      "Unpacking libxcb-image0:amd64 (0.4.0-1build1) ...\r\n",
      "Selecting previously unselected package libxcb-keysyms1:amd64.\r\n",
      "Preparing to unpack .../19-libxcb-keysyms1_0.4.0-1build1_amd64.deb ...\r\n",
      "Unpacking libxcb-keysyms1:amd64 (0.4.0-1build1) ...\r\n",
      "Selecting previously unselected package libxcb-render-util0:amd64.\r\n",
      "Preparing to unpack .../20-libxcb-render-util0_0.3.9-1build1_amd64.deb ...\r\n",
      "Unpacking libxcb-render-util0:amd64 (0.3.9-1build1) ...\r\n",
      "Selecting previously unselected package libxcb-xinerama0:amd64.\r\n",
      "Preparing to unpack .../21-libxcb-xinerama0_1.14-2_amd64.deb ...\r\n",
      "Unpacking libxcb-xinerama0:amd64 (1.14-2) ...\r\n",
      "Selecting previously unselected package libxcb-xinput0:amd64.\r\n",
      "Preparing to unpack .../22-libxcb-xinput0_1.14-2_amd64.deb ...\r\n",
      "Unpacking libxcb-xinput0:amd64 (1.14-2) ...\r\n",
      "Selecting previously unselected package libxcb-xkb1:amd64.\r\n",
      "Preparing to unpack .../23-libxcb-xkb1_1.14-2_amd64.deb ...\r\n",
      "Unpacking libxcb-xkb1:amd64 (1.14-2) ...\r\n",
      "Selecting previously unselected package libxkbcommon-x11-0:amd64.\r\n",
      "Preparing to unpack .../24-libxkbcommon-x11-0_0.10.0-1_amd64.deb ...\r\n",
      "Unpacking libxkbcommon-x11-0:amd64 (0.10.0-1) ...\r\n",
      "Selecting previously unselected package libqt5gui5:amd64.\r\n",
      "Preparing to unpack .../25-libqt5gui5_5.12.8+dfsg-0ubuntu2.1_amd64.deb ...\r\n",
      "Unpacking libqt5gui5:amd64 (5.12.8+dfsg-0ubuntu2.1) ...\r\n",
      "Selecting previously unselected package libqt5widgets5:amd64.\r\n",
      "Preparing to unpack .../26-libqt5widgets5_5.12.8+dfsg-0ubuntu2.1_amd64.deb ...\r\n",
      "Unpacking libqt5widgets5:amd64 (5.12.8+dfsg-0ubuntu2.1) ...\r\n",
      "Selecting previously unselected package libqt5svg5:amd64.\r\n",
      "Preparing to unpack .../27-libqt5svg5_5.12.8-0ubuntu1_amd64.deb ...\r\n",
      "Unpacking libqt5svg5:amd64 (5.12.8-0ubuntu1) ...\r\n",
      "Selecting previously unselected package fluid-soundfont-gm.\r\n",
      "Preparing to unpack .../28-fluid-soundfont-gm_3.1-5.1_all.deb ...\r\n",
      "Unpacking fluid-soundfont-gm (3.1-5.1) ...\r\n",
      "Selecting previously unselected package libinstpatch-1.0-2:amd64.\r\n",
      "Preparing to unpack .../29-libinstpatch-1.0-2_1.1.2-2build1_amd64.deb ...\r\n",
      "Unpacking libinstpatch-1.0-2:amd64 (1.1.2-2build1) ...\r\n",
      "Selecting previously unselected package timgm6mb-soundfont.\r\n",
      "Preparing to unpack .../30-timgm6mb-soundfont_1.3-3_all.deb ...\r\n",
      "Unpacking timgm6mb-soundfont (1.3-3) ...\r\n",
      "Selecting previously unselected package libfluidsynth2:amd64.\r\n",
      "Preparing to unpack .../31-libfluidsynth2_2.1.1-2_amd64.deb ...\r\n",
      "Unpacking libfluidsynth2:amd64 (2.1.1-2) ...\r\n",
      "Selecting previously unselected package fluidsynth.\r\n",
      "Preparing to unpack .../32-fluidsynth_2.1.1-2_amd64.deb ...\r\n",
      "Unpacking fluidsynth (2.1.1-2) ...\r\n",
      "Selecting previously unselected package libwacom-bin.\r\n",
      "Preparing to unpack .../33-libwacom-bin_1.3-2ubuntu3_amd64.deb ...\r\n",
      "Unpacking libwacom-bin (1.3-2ubuntu3) ...\r\n",
      "Selecting previously unselected package qsynth.\r\n",
      "Preparing to unpack .../34-qsynth_0.6.1-1build1_amd64.deb ...\r\n",
      "Unpacking qsynth (0.6.1-1build1) ...\r\n",
      "Selecting previously unselected package qt5-gtk-platformtheme:amd64.\r\n",
      "Preparing to unpack .../35-qt5-gtk-platformtheme_5.12.8+dfsg-0ubuntu2.1_amd64.deb ...\r\n",
      "Unpacking qt5-gtk-platformtheme:amd64 (5.12.8+dfsg-0ubuntu2.1) ...\r\n",
      "Selecting previously unselected package qttranslations5-l10n.\r\n",
      "Preparing to unpack .../36-qttranslations5-l10n_5.12.8-0ubuntu1_all.deb ...\r\n",
      "Unpacking qttranslations5-l10n (5.12.8-0ubuntu1) ...\r\n",
      "Setting up libwayland-server0:amd64 (1.18.0-1ubuntu0.1) ...\r\n",
      "Setting up libdouble-conversion3:amd64 (3.1.5-4ubuntu1) ...\r\n",
      "Setting up libxcb-xinput0:amd64 (1.14-2) ...\r\n",
      "Setting up libgbm1:amd64 (21.2.6-0ubuntu0.1~20.04.2) ...\r\n",
      "Setting up libxcb-keysyms1:amd64 (0.4.0-1build1) ...\r\n",
      "Setting up libxcb-render-util0:amd64 (0.3.9-1build1) ...\r\n",
      "Setting up libxcb-icccm4:amd64 (0.4.1-1.1) ...\r\n",
      "Setting up libpcre2-16-0:amd64 (10.34-7ubuntu0.1) ...\r\n",
      "Setting up libxcb-util1:amd64 (0.4.0-0ubuntu3) ...\r\n",
      "Setting up libxcb-xkb1:amd64 (1.14-2) ...\r\n",
      "Setting up libxcb-image0:amd64 (0.4.0-1build1) ...\r\n",
      "Setting up libegl-mesa0:amd64 (21.2.6-0ubuntu0.1~20.04.2) ...\r\n",
      "Setting up libxcb-xinerama0:amd64 (1.14-2) ...\r\n",
      "Setting up qttranslations5-l10n (5.12.8-0ubuntu1) ...\r\n",
      "Setting up libxkbcommon-x11-0:amd64 (0.10.0-1) ...\r\n",
      "Setting up libqt5core5a:amd64 (5.12.8+dfsg-0ubuntu2.1) ...\r\n",
      "Setting up libmtdev1:amd64 (1.1.5-1.1) ...\r\n",
      "Setting up libqt5dbus5:amd64 (5.12.8+dfsg-0ubuntu2.1) ...\r\n",
      "Setting up libegl1:amd64 (1.3.2-1~ubuntu0.20.04.2) ...\r\n",
      "Setting up fluid-soundfont-gm (3.1-5.1) ...\r\n",
      "Setting up timgm6mb-soundfont (1.3-3) ...\r\n",
      "update-alternatives: using /usr/share/sounds/sf2/TimGM6mb.sf2 to provide /usr/share/sounds/sf2/default-GM.sf2 (default-GM.sf2) in auto mode\r\n",
      "update-alternatives: using /usr/share/sounds/sf2/TimGM6mb.sf2 to provide /usr/share/sounds/sf3/default-GM.sf3 (default-GM.sf3) in auto mode\r\n",
      "Setting up libevdev2:amd64 (1.9.0+dfsg-1ubuntu0.2) ...\r\n",
      "Setting up libinstpatch-1.0-2:amd64 (1.1.2-2build1) ...\r\n",
      "Setting up libgudev-1.0-0:amd64 (1:233-1) ...\r\n",
      "Setting up libwacom-common (1.3-2ubuntu3) ...\r\n",
      "Setting up libqt5network5:amd64 (5.12.8+dfsg-0ubuntu2.1) ...\r\n",
      "Setting up libfluidsynth2:amd64 (2.1.1-2) ...\r\n",
      "Setting up libwacom2:amd64 (1.3-2ubuntu3) ...\r\n",
      "Setting up libinput-bin (1.15.5-1ubuntu0.3) ...\r\n",
      "Setting up fluidsynth (2.1.1-2) ...\r\n",
      "Created symlink /etc/systemd/user/multi-user.target.wants/fluidsynth.service → /usr/lib/systemd/user/fluidsynth.service.\r\n",
      "Setting up libwacom-bin (1.3-2ubuntu3) ...\r\n",
      "Setting up libinput10:amd64 (1.15.5-1ubuntu0.3) ...\r\n",
      "Setting up libqt5gui5:amd64 (5.12.8+dfsg-0ubuntu2.1) ...\r\n",
      "Setting up libqt5widgets5:amd64 (5.12.8+dfsg-0ubuntu2.1) ...\r\n",
      "Setting up qt5-gtk-platformtheme:amd64 (5.12.8+dfsg-0ubuntu2.1) ...\r\n",
      "Setting up libqt5svg5:amd64 (5.12.8-0ubuntu1) ...\r\n",
      "Setting up qsynth (0.6.1-1build1) ...\r\n",
      "Processing triggers for mime-support (3.64ubuntu1) ...\r\n",
      "Processing triggers for hicolor-icon-theme (0.17-2) ...\r\n",
      "Processing triggers for libc-bin (2.31-0ubuntu9.9) ...\r\n",
      "Processing triggers for man-db (2.9.1-1) ...\r\n"
     ]
    }
   ],
   "source": [
    "!pip install music21\n",
    "!apt-get install -y lilypond\n",
    "!pip install midi2audio\n",
    "!apt-get install -y fluidsynth"
   ]
  },
  {
   "cell_type": "code",
   "execution_count": 2,
   "id": "32e5b73b",
   "metadata": {
    "execution": {
     "iopub.execute_input": "2023-10-27T18:28:14.671618Z",
     "iopub.status.busy": "2023-10-27T18:28:14.671155Z",
     "iopub.status.idle": "2023-10-27T18:28:28.631347Z",
     "shell.execute_reply": "2023-10-27T18:28:28.629947Z"
    },
    "id": "ELVhTAvcxBzr",
    "papermill": {
     "duration": 14.008201,
     "end_time": "2023-10-27T18:28:28.634979",
     "exception": false,
     "start_time": "2023-10-27T18:28:14.626778",
     "status": "completed"
    },
    "tags": []
   },
   "outputs": [],
   "source": [
    "import os\n",
    "import tensorflow as tf\n",
    "import numpy as np\n",
    "from music21 import *"
   ]
  },
  {
   "cell_type": "code",
   "execution_count": 3,
   "id": "80cf0b1d",
   "metadata": {
    "execution": {
     "iopub.execute_input": "2023-10-27T18:28:28.723452Z",
     "iopub.status.busy": "2023-10-27T18:28:28.722634Z",
     "iopub.status.idle": "2023-10-27T18:28:29.631079Z",
     "shell.execute_reply": "2023-10-27T18:28:29.628961Z"
    },
    "id": "cL2vbaoUxD0m",
    "outputId": "86004bef-d2ed-4855-e882-862113da8287",
    "papermill": {
     "duration": 0.95663,
     "end_time": "2023-10-27T18:28:29.633624",
     "exception": true,
     "start_time": "2023-10-27T18:28:28.676994",
     "status": "failed"
    },
    "tags": []
   },
   "outputs": [
    {
     "ename": "ModuleNotFoundError",
     "evalue": "No module named 'google.colab'",
     "output_type": "error",
     "traceback": [
      "\u001b[0;31m---------------------------------------------------------------------------\u001b[0m",
      "\u001b[0;31mModuleNotFoundError\u001b[0m                       Traceback (most recent call last)",
      "Cell \u001b[0;32mIn[3], line 1\u001b[0m\n\u001b[0;32m----> 1\u001b[0m \u001b[38;5;28;01mfrom\u001b[39;00m \u001b[38;5;21;01mgoogle\u001b[39;00m\u001b[38;5;21;01m.\u001b[39;00m\u001b[38;5;21;01mcolab\u001b[39;00m \u001b[38;5;28;01mimport\u001b[39;00m drive\n\u001b[1;32m      2\u001b[0m drive\u001b[38;5;241m.\u001b[39mmount(\u001b[38;5;124m'\u001b[39m\u001b[38;5;124m/content/drive\u001b[39m\u001b[38;5;124m'\u001b[39m)\n",
      "\u001b[0;31mModuleNotFoundError\u001b[0m: No module named 'google.colab'"
     ]
    }
   ],
   "source": [
    "from google.colab import drive\n",
    "drive.mount('/content/drive')"
   ]
  },
  {
   "cell_type": "code",
   "execution_count": null,
   "id": "478bc36f",
   "metadata": {
    "id": "l3KbHQ60xQYL",
    "papermill": {
     "duration": null,
     "end_time": null,
     "exception": null,
     "start_time": null,
     "status": "pending"
    },
    "tags": []
   },
   "outputs": [],
   "source": [
    "import glob\n",
    "import pickle\n",
    "import numpy\n",
    "import tensorflow as tf\n",
    "import pandas as pd\n",
    "import numpy as np\n",
    "import matplotlib.pyplot as plt\n",
    "import matplotlib.image as mpimg\n",
    "import seaborn as sns\n",
    "import IPython\n",
    "import IPython\n",
    "\n",
    "from IPython.display import Image, Audio\n",
    "from music21 import *\n",
    "from music21 import converter, instrument, note, chord\n",
    "from keras.models import Sequential\n",
    "from keras.layers import Dense\n",
    "from keras.layers import Dropout\n",
    "from keras.layers import LSTM\n",
    "from keras.layers import Activation\n",
    "from keras.layers import BatchNormalization as BatchNorm\n",
    "from keras.callbacks import ModelCheckpoint, ReduceLROnPlateau , EarlyStopping\n",
    "from music21 import instrument, note, stream, chord\n",
    "from scipy.io import wavfile\n",
    "from midi2audio import FluidSynth\n",
    "from IPython.display import Image, Audio\n",
    "\n",
    "%matplotlib inline\n",
    "import warnings\n",
    "warnings.filterwarnings('ignore')\n",
    "import IPython.display as ipd\n",
    "\n",
    "sns.set(style='white', context='notebook', palette='deep')"
   ]
  },
  {
   "cell_type": "code",
   "execution_count": null,
   "id": "c8d7cb1f",
   "metadata": {
    "id": "YfDQqlDa1mWL",
    "papermill": {
     "duration": null,
     "end_time": null,
     "exception": null,
     "start_time": null,
     "status": "pending"
    },
    "tags": []
   },
   "outputs": [],
   "source": [
    "/content/drive/MyDrive/MIDI/archive (3)/midi_dataset/midi_dataset"
   ]
  },
  {
   "cell_type": "code",
   "execution_count": null,
   "id": "3dc2b5c2",
   "metadata": {
    "id": "ZZ2mFvV51rtO",
    "papermill": {
     "duration": null,
     "end_time": null,
     "exception": null,
     "start_time": null,
     "status": "pending"
    },
    "tags": []
   },
   "outputs": [],
   "source": [
    "/content/drive/MyDrive/MIDI/class/midi_songs"
   ]
  },
  {
   "cell_type": "code",
   "execution_count": null,
   "id": "c44f8570",
   "metadata": {
    "id": "eluL_SAmXfSJ",
    "papermill": {
     "duration": null,
     "end_time": null,
     "exception": null,
     "start_time": null,
     "status": "pending"
    },
    "tags": []
   },
   "outputs": [],
   "source": [
    "/content/drive/MyDrive/MIDI/archive (3)/midi_dataset/midi_dataset"
   ]
  },
  {
   "cell_type": "code",
   "execution_count": null,
   "id": "d07653ce",
   "metadata": {
    "id": "7mxXrFvm1gEq",
    "papermill": {
     "duration": null,
     "end_time": null,
     "exception": null,
     "start_time": null,
     "status": "pending"
    },
    "tags": []
   },
   "outputs": [],
   "source": [
    "\n",
    "audio = glob.glob('/content/drive/MyDrive/MIDI/class/midi_songs/*.mid')"
   ]
  },
  {
   "cell_type": "code",
   "execution_count": null,
   "id": "0ce5a399",
   "metadata": {
    "id": "WwFsDGBA2_j5",
    "outputId": "7412d794-6613-4bbc-fc2b-c9fa3b6b3c8e",
    "papermill": {
     "duration": null,
     "end_time": null,
     "exception": null,
     "start_time": null,
     "status": "pending"
    },
    "tags": []
   },
   "outputs": [],
   "source": [
    "ipd.Audio(audio[10])"
   ]
  },
  {
   "cell_type": "code",
   "execution_count": null,
   "id": "8f2c1d32",
   "metadata": {
    "id": "-7IV2-9j2xGM",
    "papermill": {
     "duration": null,
     "end_time": null,
     "exception": null,
     "start_time": null,
     "status": "pending"
    },
    "tags": []
   },
   "outputs": [],
   "source": [
    "/content/drive/MyDrive/MIDI/class/midi_songs/0fithos.mid"
   ]
  },
  {
   "cell_type": "code",
   "execution_count": null,
   "id": "d57c1274",
   "metadata": {
    "id": "vaNTM_SC2uND",
    "papermill": {
     "duration": null,
     "end_time": null,
     "exception": null,
     "start_time": null,
     "status": "pending"
    },
    "tags": []
   },
   "outputs": [],
   "source": [
    "/content/drive/MyDrive/MIDI/class/midi_songs"
   ]
  },
  {
   "cell_type": "code",
   "execution_count": null,
   "id": "06ad4883",
   "metadata": {
    "id": "PhByKWrj2i2y",
    "papermill": {
     "duration": null,
     "end_time": null,
     "exception": null,
     "start_time": null,
     "status": "pending"
    },
    "tags": []
   },
   "outputs": [],
   "source": [
    "from music21.common import musicOrdinals\n",
    "# we will use subset from our set (20 songs) coz training will take a long time!\n",
    "\n",
    "def get_notes():\n",
    "    \"\"\" Get all the notes and chords from the midi files in the ./data directory \"\"\"\n",
    "    notes = []\n",
    "    i =0\n",
    "    songs = []\n",
    "    for file in glob.glob(\"../input/music-final-fantasy-soundtracks/*.mid\"):\n",
    "        if i == 20:\n",
    "          break\n",
    "        midi = converter.parse(file)\n",
    "        songs.append(midi)\n",
    "        print(\"Parsing %s\" % file)\n",
    "\n",
    "        notes_to_parse = None\n",
    "\n",
    "        try: # file has instrument parts\n",
    "            s2 = instrument.partitionByInstrument(midi)\n",
    "            notes_to_parse = s2.parts[0].recurse()\n",
    "        except: # file has notes in a flat structure\n",
    "            notes_to_parse = midi.flat.notes\n",
    "\n",
    "        for element in notes_to_parse:\n",
    "            if isinstance(element, note.Note):\n",
    "                notes.append(str(element.pitch))\n",
    "            elif isinstance(element, chord.Chord):\n",
    "                notes.append('.'.join(str(n) for n in element.normalOrder))\n",
    "            elif isinstance(element, note.Rest):\n",
    "                notes.append('r')\n",
    "        i +=1\n",
    "    with open('./final_notes', 'wb') as filepath:\n",
    "        pickle.dump(notes, filepath)    ### https://pythontic.com/modules/pickle/introduction   ##### link to understand pickle file\n",
    "    print(f\"Loaded {i} songs.\\n\")\n",
    "\n",
    "    return notes, songs"
   ]
  },
  {
   "cell_type": "code",
   "execution_count": null,
   "id": "0272d45c",
   "metadata": {
    "id": "_3LgJM4d3xxl",
    "papermill": {
     "duration": null,
     "end_time": null,
     "exception": null,
     "start_time": null,
     "status": "pending"
    },
    "tags": []
   },
   "outputs": [],
   "source": [
    "seed = 42\n",
    "tf.random.set_seed(seed)\n",
    "np.random.seed(seed)\n",
    "\n",
    "# Sampling rate for audio playback\n",
    "_SAMPLING_RATE = 16000"
   ]
  },
  {
   "cell_type": "code",
   "execution_count": null,
   "id": "cf759f3e",
   "metadata": {
    "id": "bQnQBKYB4JX6",
    "papermill": {
     "duration": null,
     "end_time": null,
     "exception": null,
     "start_time": null,
     "status": "pending"
    },
    "tags": []
   },
   "outputs": [],
   "source": [
    "import collections\n",
    "import datetime\n",
    "\n",
    "import glob\n",
    "import numpy as np\n",
    "import pathlib\n",
    "import pandas as pd\n",
    "\n",
    "import seaborn as sns\n",
    "import tensorflow as tf\n",
    "\n",
    "from IPython import display\n",
    "from matplotlib import pyplot as plt\n",
    "from typing import Optional"
   ]
  },
  {
   "cell_type": "code",
   "execution_count": null,
   "id": "50660d95",
   "metadata": {
    "id": "UU5JuB7L38tY",
    "outputId": "2b09e712-8076-48e3-8b8d-312457961b94",
    "papermill": {
     "duration": null,
     "end_time": null,
     "exception": null,
     "start_time": null,
     "status": "pending"
    },
    "tags": []
   },
   "outputs": [],
   "source": [
    "data_dir = pathlib.Path('data/maestro-v2.0.0')\n",
    "if not data_dir.exists():\n",
    "  tf.keras.utils.get_file(\n",
    "      'maestro-v2.0.0-midi.zip',\n",
    "      origin='https://storage.googleapis.com/magentadata/datasets/maestro/v2.0.0/maestro-v2.0.0-midi.zip',\n",
    "      extract=True,\n",
    "      cache_dir='.', cache_subdir='data',\n",
    "  )"
   ]
  },
  {
   "cell_type": "markdown",
   "id": "f84de73e",
   "metadata": {
    "id": "zQ3NJEgJ5p9i",
    "papermill": {
     "duration": null,
     "end_time": null,
     "exception": null,
     "start_time": null,
     "status": "pending"
    },
    "tags": []
   },
   "source": [
    "## **We will download a dataset of magenta from a tensorflow**"
   ]
  },
  {
   "cell_type": "code",
   "execution_count": null,
   "id": "a592e152",
   "metadata": {
    "id": "KrA7MqHP5plU",
    "papermill": {
     "duration": null,
     "end_time": null,
     "exception": null,
     "start_time": null,
     "status": "pending"
    },
    "tags": []
   },
   "outputs": [],
   "source": [
    "!sudo apt install -y fluidsynth"
   ]
  },
  {
   "cell_type": "code",
   "execution_count": null,
   "id": "dea32f03",
   "metadata": {
    "id": "E_xojHTH6cp9",
    "papermill": {
     "duration": null,
     "end_time": null,
     "exception": null,
     "start_time": null,
     "status": "pending"
    },
    "tags": []
   },
   "outputs": [],
   "source": [
    "!pip install --upgrade pyfluidsynth"
   ]
  },
  {
   "cell_type": "code",
   "execution_count": null,
   "id": "a4aec8a8",
   "metadata": {
    "id": "_DZ-Qpae6o1_",
    "papermill": {
     "duration": null,
     "end_time": null,
     "exception": null,
     "start_time": null,
     "status": "pending"
    },
    "tags": []
   },
   "outputs": [],
   "source": [
    "!pip install pretty_midi"
   ]
  },
  {
   "cell_type": "code",
   "execution_count": null,
   "id": "bed0eff7",
   "metadata": {
    "id": "7St4FhTT66N_",
    "papermill": {
     "duration": null,
     "end_time": null,
     "exception": null,
     "start_time": null,
     "status": "pending"
    },
    "tags": []
   },
   "outputs": [],
   "source": [
    "import collections\n",
    "import datetime\n",
    "import fluidsynth\n",
    "import glob\n",
    "import numpy as np\n",
    "import pathlib\n",
    "import pandas as pd\n",
    "import pretty_midi\n",
    "import seaborn as sns\n",
    "import tensorflow as tf\n",
    "\n",
    "from IPython import display\n",
    "from matplotlib import pyplot as plt\n",
    "from typing import Optional"
   ]
  },
  {
   "cell_type": "code",
   "execution_count": null,
   "id": "7e837ec1",
   "metadata": {
    "id": "-rFjRAks6-Ia",
    "papermill": {
     "duration": null,
     "end_time": null,
     "exception": null,
     "start_time": null,
     "status": "pending"
    },
    "tags": []
   },
   "outputs": [],
   "source": [
    "seed = 42\n",
    "tf.random.set_seed(seed)\n",
    "np.random.seed(seed)\n",
    "\n",
    "# Sampling rate for audio playback\n",
    "_SAMPLING_RATE = 16000"
   ]
  },
  {
   "cell_type": "code",
   "execution_count": null,
   "id": "4fee59ca",
   "metadata": {
    "id": "ClhMeWQw77Hr",
    "papermill": {
     "duration": null,
     "end_time": null,
     "exception": null,
     "start_time": null,
     "status": "pending"
    },
    "tags": []
   },
   "outputs": [],
   "source": []
  },
  {
   "cell_type": "markdown",
   "id": "73613bf2",
   "metadata": {
    "id": "GUNoPvJy78M_",
    "papermill": {
     "duration": null,
     "end_time": null,
     "exception": null,
     "start_time": null,
     "status": "pending"
    },
    "tags": []
   },
   "source": [
    "## **Download mystro from magenta**"
   ]
  },
  {
   "cell_type": "code",
   "execution_count": null,
   "id": "b7d9c800",
   "metadata": {
    "id": "1TRs4kB57yZZ",
    "papermill": {
     "duration": null,
     "end_time": null,
     "exception": null,
     "start_time": null,
     "status": "pending"
    },
    "tags": []
   },
   "outputs": [],
   "source": [
    "data_dir = pathlib.Path('data/maestro-v2.0.0')\n",
    "if not data_dir.exists():\n",
    "  tf.keras.utils.get_file(\n",
    "      'maestro-v2.0.0-midi.zip',\n",
    "      origin='https://storage.googleapis.com/magentadata/datasets/maestro/v2.0.0/maestro-v2.0.0-midi.zip',\n",
    "      extract=True,\n",
    "      cache_dir='.', cache_subdir='data',\n",
    "  )"
   ]
  },
  {
   "cell_type": "code",
   "execution_count": null,
   "id": "d410d3e1",
   "metadata": {
    "id": "fYq_y5Ic9BbN",
    "papermill": {
     "duration": null,
     "end_time": null,
     "exception": null,
     "start_time": null,
     "status": "pending"
    },
    "tags": []
   },
   "outputs": [],
   "source": [
    "#load files\n",
    "audio = glob.glob(str(data_dir/'**/*.mid*'))"
   ]
  },
  {
   "cell_type": "code",
   "execution_count": null,
   "id": "5f3e96f8",
   "metadata": {
    "id": "BKkZXj3M9XZw",
    "outputId": "4b4a32e2-1999-4263-ecef-8fd285adac15",
    "papermill": {
     "duration": null,
     "end_time": null,
     "exception": null,
     "start_time": null,
     "status": "pending"
    },
    "tags": []
   },
   "outputs": [],
   "source": [
    "print(len(audio)) #N.of mid files in mystro data"
   ]
  },
  {
   "cell_type": "code",
   "execution_count": null,
   "id": "963b57ae",
   "metadata": {
    "id": "muIS5Bzp_SEl",
    "papermill": {
     "duration": null,
     "end_time": null,
     "exception": null,
     "start_time": null,
     "status": "pending"
    },
    "tags": []
   },
   "outputs": [],
   "source": [
    "sample_file = audio[2]"
   ]
  },
  {
   "cell_type": "code",
   "execution_count": null,
   "id": "ad9846a1",
   "metadata": {
    "id": "Hrwm9YST_Nc-",
    "papermill": {
     "duration": null,
     "end_time": null,
     "exception": null,
     "start_time": null,
     "status": "pending"
    },
    "tags": []
   },
   "outputs": [],
   "source": [
    "pm = pretty_midi.PrettyMIDI(sample_file)"
   ]
  },
  {
   "cell_type": "code",
   "execution_count": null,
   "id": "3557db57",
   "metadata": {
    "id": "fL1m4s0K9j8v",
    "papermill": {
     "duration": null,
     "end_time": null,
     "exception": null,
     "start_time": null,
     "status": "pending"
    },
    "tags": []
   },
   "outputs": [],
   "source": [
    "def display_audio(pm: pretty_midi.PrettyMIDI, seconds=30):\n",
    "  waveform = pm.fluidsynth(fs=_SAMPLING_RATE)\n",
    "  # Take a sample of the generated waveform to mitigate kernel resets\n",
    "  waveform_short = waveform[:seconds*_SAMPLING_RATE]\n",
    "  return display.Audio(waveform_short, rate=_SAMPLING_RATE)"
   ]
  },
  {
   "cell_type": "code",
   "execution_count": null,
   "id": "a5a3900c",
   "metadata": {
    "id": "VSxjuZaY_FOJ",
    "outputId": "4b120c5c-e24a-4cf2-d9fe-1903f6320306",
    "papermill": {
     "duration": null,
     "end_time": null,
     "exception": null,
     "start_time": null,
     "status": "pending"
    },
    "tags": []
   },
   "outputs": [],
   "source": [
    "display_audio(pm)"
   ]
  },
  {
   "cell_type": "markdown",
   "id": "651cfc92",
   "metadata": {
    "id": "zFlisWYjAqR4",
    "papermill": {
     "duration": null,
     "end_time": null,
     "exception": null,
     "start_time": null,
     "status": "pending"
    },
    "tags": []
   },
   "source": [
    "Enumerate notes of instruments"
   ]
  },
  {
   "cell_type": "code",
   "execution_count": null,
   "id": "e38dd155",
   "metadata": {
    "id": "6qS8TN5vKb-d",
    "outputId": "8bd72ffd-7044-4fb5-fd3d-402d1e57e3ab",
    "papermill": {
     "duration": null,
     "end_time": null,
     "exception": null,
     "start_time": null,
     "status": "pending"
    },
    "tags": []
   },
   "outputs": [],
   "source": [
    "print('Number of instruments:', len(pm.instruments))\n",
    "instrument = pm.instruments[0]\n",
    "instrument_name = pretty_midi.program_to_instrument_name(instrument.program)\n",
    "print('Instrument name:', instrument_name)"
   ]
  },
  {
   "cell_type": "code",
   "execution_count": null,
   "id": "690a32e9",
   "metadata": {
    "id": "l1XaXgvD_0yv",
    "outputId": "f3039eee-da8a-42f4-e886-097653d579cf",
    "papermill": {
     "duration": null,
     "end_time": null,
     "exception": null,
     "start_time": null,
     "status": "pending"
    },
    "tags": []
   },
   "outputs": [],
   "source": [
    "for i, note in enumerate(instrument.notes[:10]):\n",
    "  note_name = pretty_midi.note_number_to_name(note.pitch)\n",
    "  duration = note.end - note.start\n",
    "  print(f'{i}: pitch={note.pitch}, note_name={note_name},'\n",
    "        f' duration={duration:.4f}')"
   ]
  },
  {
   "cell_type": "markdown",
   "id": "667c9ed9",
   "metadata": {
    "id": "QkP1GvfkKgTU",
    "papermill": {
     "duration": null,
     "end_time": null,
     "exception": null,
     "start_time": null,
     "status": "pending"
    },
    "tags": []
   },
   "source": [
    "As we show every instrument has some feature like :\n",
    "- pitch is collection of notes .\n",
    "- every note has it is own name & duration .\n",
    "\n"
   ]
  },
  {
   "cell_type": "code",
   "execution_count": null,
   "id": "5cc0c0c3",
   "metadata": {
    "id": "78dqPK7FK7-g",
    "papermill": {
     "duration": null,
     "end_time": null,
     "exception": null,
     "start_time": null,
     "status": "pending"
    },
    "tags": []
   },
   "outputs": [],
   "source": [
    "def midi_to_notes(midi_file: str) -> pd.DataFrame:\n",
    "  pm = pretty_midi.PrettyMIDI(midi_file)\n",
    "  instrument = pm.instruments[0]\n",
    "  notes = collections.defaultdict(list)\n",
    "\n",
    "  # Sort the notes by start time\n",
    "  sorted_notes = sorted(instrument.notes, key=lambda note: note.start)\n",
    "  prev_start = sorted_notes[0].start\n",
    "\n",
    "  for note in sorted_notes:\n",
    "    start = note.start\n",
    "    end = note.end\n",
    "    notes['pitch'].append(note.pitch)\n",
    "    notes['start'].append(start)\n",
    "    notes['end'].append(end)\n",
    "    notes['step'].append(start - prev_start)\n",
    "    notes['duration'].append(end - start)\n",
    "    prev_start = start\n",
    "\n",
    "  return pd.DataFrame({name: np.array(value) for name, value in notes.items()})"
   ]
  },
  {
   "cell_type": "code",
   "execution_count": null,
   "id": "19620c51",
   "metadata": {
    "id": "qoJtFnVtLnb5",
    "outputId": "d26bb3c6-aa1f-41a8-b471-abf1da4f1ef5",
    "papermill": {
     "duration": null,
     "end_time": null,
     "exception": null,
     "start_time": null,
     "status": "pending"
    },
    "tags": []
   },
   "outputs": [],
   "source": [
    "raw_notes = midi_to_notes(sample_file)\n",
    "raw_notes.head()\n"
   ]
  },
  {
   "cell_type": "code",
   "execution_count": null,
   "id": "42697f0c",
   "metadata": {
    "id": "N1rSupL_Lw6b",
    "papermill": {
     "duration": null,
     "end_time": null,
     "exception": null,
     "start_time": null,
     "status": "pending"
    },
    "tags": []
   },
   "outputs": [],
   "source": [
    "def plot_piano_roll(notes: pd.DataFrame, count: Optional[int] = None):\n",
    "  if count:\n",
    "    title = f'First {count} notes'\n",
    "  else:\n",
    "    title = f'Whole track'\n",
    "    count = len(notes['pitch'])\n",
    "  plt.figure(figsize=(20, 4))\n",
    "  plot_pitch = np.stack([notes['pitch'], notes['pitch']], axis=0)\n",
    "  plot_start_stop = np.stack([notes['start'], notes['end']], axis=0)\n",
    "  plt.plot(\n",
    "      plot_start_stop[:, :count], plot_pitch[:, :count], color=\"b\", marker=\".\")\n",
    "  plt.xlabel('Time [s]')\n",
    "  plt.ylabel('Pitch')\n",
    "  _ = plt.title(title)"
   ]
  },
  {
   "cell_type": "code",
   "execution_count": null,
   "id": "6bc52789",
   "metadata": {
    "id": "lC2P4fPOPItH",
    "outputId": "9a79af84-ac1f-4ff1-8228-c17e5a1f921c",
    "papermill": {
     "duration": null,
     "end_time": null,
     "exception": null,
     "start_time": null,
     "status": "pending"
    },
    "tags": []
   },
   "outputs": [],
   "source": [
    "plot_piano_roll(raw_notes, count=100)"
   ]
  },
  {
   "cell_type": "code",
   "execution_count": null,
   "id": "78d257f5",
   "metadata": {
    "id": "LUtv-g7NPPi1",
    "outputId": "e98a9049-857c-4607-de40-901d6e2dcfe0",
    "papermill": {
     "duration": null,
     "end_time": null,
     "exception": null,
     "start_time": null,
     "status": "pending"
    },
    "tags": []
   },
   "outputs": [],
   "source": [
    "plot_piano_roll(raw_notes)"
   ]
  },
  {
   "cell_type": "markdown",
   "id": "36b76361",
   "metadata": {
    "id": "fHuezlQXPtZS",
    "papermill": {
     "duration": null,
     "end_time": null,
     "exception": null,
     "start_time": null,
     "status": "pending"
    },
    "tags": []
   },
   "source": [
    "from the previose notes we can create a midi file"
   ]
  },
  {
   "cell_type": "code",
   "execution_count": null,
   "id": "f9a80f45",
   "metadata": {
    "id": "NT0PaInIPaYV",
    "papermill": {
     "duration": null,
     "end_time": null,
     "exception": null,
     "start_time": null,
     "status": "pending"
    },
    "tags": []
   },
   "outputs": [],
   "source": [
    "def notes_to_midi(\n",
    "  notes: pd.DataFrame,\n",
    "  out_file: str,\n",
    "  instrument_name: str,\n",
    "  velocity: int = 100,  # note loudness\n",
    ") -> pretty_midi.PrettyMIDI:\n",
    "\n",
    "  pm = pretty_midi.PrettyMIDI()\n",
    "  instrument = pretty_midi.Instrument(\n",
    "      program=pretty_midi.instrument_name_to_program(\n",
    "          instrument_name))\n",
    "\n",
    "  prev_start = 0\n",
    "  for i, note in notes.iterrows():\n",
    "    start = float(prev_start + note['step'])\n",
    "    end = float(start + note['duration'])\n",
    "    note = pretty_midi.Note(\n",
    "        velocity=velocity,\n",
    "        pitch=int(note['pitch']),\n",
    "        start=start,\n",
    "        end=end,\n",
    "    )\n",
    "    instrument.notes.append(note)\n",
    "    prev_start = start\n",
    "\n",
    "  pm.instruments.append(instrument)\n",
    "  pm.write(out_file)\n",
    "  return pm"
   ]
  },
  {
   "cell_type": "code",
   "execution_count": null,
   "id": "b0eec400",
   "metadata": {
    "id": "2hB82geGP5XF",
    "papermill": {
     "duration": null,
     "end_time": null,
     "exception": null,
     "start_time": null,
     "status": "pending"
    },
    "tags": []
   },
   "outputs": [],
   "source": [
    "example_file = 'example.midi'\n",
    "example_pm = notes_to_midi(\n",
    "    raw_notes, out_file=example_file, instrument_name=instrument_name)"
   ]
  },
  {
   "cell_type": "code",
   "execution_count": null,
   "id": "9c739977",
   "metadata": {
    "id": "qjCFo59yQAw-",
    "outputId": "270b3dc3-5d60-4df9-8684-72cebdf8d760",
    "papermill": {
     "duration": null,
     "end_time": null,
     "exception": null,
     "start_time": null,
     "status": "pending"
    },
    "tags": []
   },
   "outputs": [],
   "source": [
    "display_audio(example_pm)"
   ]
  },
  {
   "cell_type": "markdown",
   "id": "b3a59e89",
   "metadata": {
    "id": "ZBIIqBTJQQqL",
    "papermill": {
     "duration": null,
     "end_time": null,
     "exception": null,
     "start_time": null,
     "status": "pending"
    },
    "tags": []
   },
   "source": [
    "Let's Create our trainig data & build our model"
   ]
  },
  {
   "cell_type": "code",
   "execution_count": null,
   "id": "bf981663",
   "metadata": {
    "id": "v6goYP1uQbgj",
    "papermill": {
     "duration": null,
     "end_time": null,
     "exception": null,
     "start_time": null,
     "status": "pending"
    },
    "tags": []
   },
   "outputs": [],
   "source": [
    "num_files = 20\n",
    "all_notes = []\n",
    "for f in audio[:num_files]:\n",
    "  notes = midi_to_notes(f)\n",
    "  all_notes.append(notes)\n",
    "\n",
    "all_notes = pd.concat(all_notes)"
   ]
  },
  {
   "cell_type": "code",
   "execution_count": null,
   "id": "98670d4f",
   "metadata": {
    "id": "SAO5uAapQrPN",
    "outputId": "3b67cb45-9067-46c9-ff33-1e7958330d5b",
    "papermill": {
     "duration": null,
     "end_time": null,
     "exception": null,
     "start_time": null,
     "status": "pending"
    },
    "tags": []
   },
   "outputs": [],
   "source": [
    "n_notes = len(all_notes)\n",
    "print('Number of notes parsed:', n_notes)"
   ]
  },
  {
   "cell_type": "markdown",
   "id": "a9c1ee83",
   "metadata": {
    "id": "KORVKjLrQ-ND",
    "papermill": {
     "duration": null,
     "end_time": null,
     "exception": null,
     "start_time": null,
     "status": "pending"
    },
    "tags": []
   },
   "source": [
    "After we exctract some notes from 10 mid file , we will distribute it on dataset to train our model"
   ]
  },
  {
   "cell_type": "code",
   "execution_count": null,
   "id": "97a039bb",
   "metadata": {
    "id": "7LR9sLuLQ8Uv",
    "papermill": {
     "duration": null,
     "end_time": null,
     "exception": null,
     "start_time": null,
     "status": "pending"
    },
    "tags": []
   },
   "outputs": [],
   "source": [
    "key_order = ['pitch', 'step', 'duration']\n",
    "train_notes = np.stack([all_notes[key] for key in key_order], axis=1)"
   ]
  },
  {
   "cell_type": "code",
   "execution_count": null,
   "id": "83c53ea2",
   "metadata": {
    "id": "N33wf6NxQ9nC",
    "outputId": "56e694e1-86f9-40f8-f12c-5f50b126c9e2",
    "papermill": {
     "duration": null,
     "end_time": null,
     "exception": null,
     "start_time": null,
     "status": "pending"
    },
    "tags": []
   },
   "outputs": [],
   "source": [
    "notes_ds = tf.data.Dataset.from_tensor_slices(train_notes)\n",
    "notes_ds.element_spec"
   ]
  },
  {
   "cell_type": "code",
   "execution_count": null,
   "id": "fe0a109a",
   "metadata": {
    "id": "BYYOiQgcRS6Z",
    "papermill": {
     "duration": null,
     "end_time": null,
     "exception": null,
     "start_time": null,
     "status": "pending"
    },
    "tags": []
   },
   "outputs": [],
   "source": [
    "def create_sequences(\n",
    "    dataset: tf.data.Dataset,\n",
    "    seq_length: int,\n",
    "    vocab_size = 128,\n",
    ") -> tf.data.Dataset:\n",
    "  \"\"\"Returns TF Dataset of sequence and label examples.\"\"\"\n",
    "  seq_length = seq_length+1\n",
    "\n",
    "  # Take 1 extra for the labels\n",
    "  windows = dataset.window(seq_length, shift=1, stride=1,\n",
    "                              drop_remainder=True)\n",
    "\n",
    "  # `flat_map` flattens the\" dataset of datasets\" into a dataset of tensors\n",
    "  flatten = lambda x: x.batch(seq_length, drop_remainder=True)\n",
    "  sequences = windows.flat_map(flatten)\n",
    "\n",
    "  # Normalize note pitch\n",
    "  def scale_pitch(x):\n",
    "    x = x/[vocab_size,1.0,1.0]\n",
    "    return x\n",
    "\n",
    "  # Split the labels\n",
    "  def split_labels(sequences):\n",
    "    inputs = sequences[:-1]\n",
    "    labels_dense = sequences[-1]\n",
    "    labels = {key:labels_dense[i] for i,key in enumerate(key_order)}\n",
    "\n",
    "    return scale_pitch(inputs), labels\n",
    "\n",
    "  return sequences.map(split_labels, num_parallel_calls=tf.data.AUTOTUNE)"
   ]
  },
  {
   "cell_type": "code",
   "execution_count": null,
   "id": "962a3e6d",
   "metadata": {
    "id": "lkB6NovGRrFi",
    "outputId": "404db589-2b34-4b3a-8005-cb015bbc076a",
    "papermill": {
     "duration": null,
     "end_time": null,
     "exception": null,
     "start_time": null,
     "status": "pending"
    },
    "tags": []
   },
   "outputs": [],
   "source": [
    "seq_length = 25\n",
    "vocab_size = 128\n",
    "seq_ds = create_sequences(notes_ds, seq_length, vocab_size)\n",
    "seq_ds.element_spec"
   ]
  },
  {
   "cell_type": "code",
   "execution_count": null,
   "id": "290f6f9e",
   "metadata": {
    "id": "PiOfzp1ISM2Q",
    "outputId": "08f17b24-139d-4897-815d-599028055c4b",
    "papermill": {
     "duration": null,
     "end_time": null,
     "exception": null,
     "start_time": null,
     "status": "pending"
    },
    "tags": []
   },
   "outputs": [],
   "source": [
    "for seq, target in seq_ds.take(1):\n",
    "  print('sequence shape:', seq.shape)\n",
    "  print('sequence elements (first 10):', seq[0: 10])\n",
    "  print()\n",
    "  print('target:', target)"
   ]
  },
  {
   "cell_type": "code",
   "execution_count": null,
   "id": "9e586461",
   "metadata": {
    "id": "5Z-8JnDqR0zq",
    "papermill": {
     "duration": null,
     "end_time": null,
     "exception": null,
     "start_time": null,
     "status": "pending"
    },
    "tags": []
   },
   "outputs": [],
   "source": [
    "batch_size = 64\n",
    "buffer_size = n_notes - seq_length  # the number of items in the dataset\n",
    "train_ds = (seq_ds\n",
    "            .shuffle(buffer_size)\n",
    "            .batch(batch_size, drop_remainder=True)\n",
    "            .cache()\n",
    "            .prefetch(tf.data.experimental.AUTOTUNE))"
   ]
  },
  {
   "cell_type": "code",
   "execution_count": null,
   "id": "f73e8f3b",
   "metadata": {
    "id": "icvnRdGZSj0B",
    "outputId": "9a1cf9d9-47ba-4784-a6b9-28ec306e084a",
    "papermill": {
     "duration": null,
     "end_time": null,
     "exception": null,
     "start_time": null,
     "status": "pending"
    },
    "tags": []
   },
   "outputs": [],
   "source": [
    "train_ds.element_spec"
   ]
  },
  {
   "cell_type": "code",
   "execution_count": null,
   "id": "ba52dfbd",
   "metadata": {
    "id": "gvfZ6E1dSxCN",
    "papermill": {
     "duration": null,
     "end_time": null,
     "exception": null,
     "start_time": null,
     "status": "pending"
    },
    "tags": []
   },
   "outputs": [],
   "source": [
    "def mse_with_positive_pressure(y_true: tf.Tensor, y_pred: tf.Tensor):\n",
    "  mse = (y_true - y_pred) ** 2\n",
    "  positive_pressure = 10 * tf.maximum(-y_pred, 0.0)\n",
    "  return tf.reduce_mean(mse + positive_pressure)"
   ]
  },
  {
   "cell_type": "markdown",
   "id": "5c6090b8",
   "metadata": {
    "id": "Ad4ZdIT7TnmC",
    "papermill": {
     "duration": null,
     "end_time": null,
     "exception": null,
     "start_time": null,
     "status": "pending"
    },
    "tags": []
   },
   "source": [
    "# Model 1"
   ]
  },
  {
   "cell_type": "code",
   "execution_count": null,
   "id": "da465066",
   "metadata": {
    "id": "G-bvpXatTnWT",
    "papermill": {
     "duration": null,
     "end_time": null,
     "exception": null,
     "start_time": null,
     "status": "pending"
    },
    "tags": []
   },
   "outputs": [],
   "source": [
    "input_shape = (seq_length, 3)\n",
    "learning_rate = 0.005\n",
    "\n",
    "inputs = tf.keras.Input(input_shape)\n",
    "x = tf.keras.layers.LSTM(128)(inputs)\n",
    "\n",
    "outputs = {\n",
    "  'pitch': tf.keras.layers.Dense(128, name='pitch')(x),\n",
    "  'step': tf.keras.layers.Dense(1, name='step')(x),\n",
    "  'duration': tf.keras.layers.Dense(1, name='duration')(x),\n",
    "}\n",
    "\n",
    "model = tf.keras.Model(inputs, outputs)\n",
    "\n",
    "loss = {\n",
    "      'pitch': tf.keras.losses.SparseCategoricalCrossentropy(\n",
    "          from_logits=True),\n",
    "      'step': mse_with_positive_pressure,\n",
    "      'duration': mse_with_positive_pressure,\n",
    "}\n",
    "\n",
    "optimizer = tf.keras.optimizers.Adam(learning_rate=learning_rate)\n",
    "\n"
   ]
  },
  {
   "cell_type": "code",
   "execution_count": null,
   "id": "d79be2f0",
   "metadata": {
    "id": "QSPy5a1FS8IH",
    "papermill": {
     "duration": null,
     "end_time": null,
     "exception": null,
     "start_time": null,
     "status": "pending"
    },
    "tags": []
   },
   "outputs": [],
   "source": [
    "model.compile(loss=loss, optimizer=optimizer)"
   ]
  },
  {
   "cell_type": "code",
   "execution_count": null,
   "id": "57c985ac",
   "metadata": {
    "id": "g-xHW2EnTygZ",
    "outputId": "59e0c196-2259-410d-d9a6-e0ffc588de99",
    "papermill": {
     "duration": null,
     "end_time": null,
     "exception": null,
     "start_time": null,
     "status": "pending"
    },
    "tags": []
   },
   "outputs": [],
   "source": [
    "model.summary()"
   ]
  },
  {
   "cell_type": "code",
   "execution_count": null,
   "id": "7edfea90",
   "metadata": {
    "id": "rWYqRhbOT5YN",
    "outputId": "95a54b18-8828-4de2-f18b-e48dc276c154",
    "papermill": {
     "duration": null,
     "end_time": null,
     "exception": null,
     "start_time": null,
     "status": "pending"
    },
    "tags": []
   },
   "outputs": [],
   "source": [
    "losses = model.evaluate(train_ds, return_dict=True)\n",
    "losses"
   ]
  },
  {
   "cell_type": "code",
   "execution_count": null,
   "id": "1322a1e0",
   "metadata": {
    "id": "Zt0tfHpeUZim",
    "papermill": {
     "duration": null,
     "end_time": null,
     "exception": null,
     "start_time": null,
     "status": "pending"
    },
    "tags": []
   },
   "outputs": [],
   "source": [
    "model.compile(\n",
    "    loss=loss,\n",
    "    loss_weights={\n",
    "        'pitch': 0.5,\n",
    "        'step': 1.0,\n",
    "        'duration':1.0,\n",
    "    },\n",
    "    optimizer=optimizer,\n",
    ")"
   ]
  },
  {
   "cell_type": "code",
   "execution_count": null,
   "id": "c56a4342",
   "metadata": {
    "id": "24JjZSvaUgoa",
    "papermill": {
     "duration": null,
     "end_time": null,
     "exception": null,
     "start_time": null,
     "status": "pending"
    },
    "tags": []
   },
   "outputs": [],
   "source": [
    "callbacks = [\n",
    "    tf.keras.callbacks.ModelCheckpoint(\n",
    "        filepath='./training_checkpoints/ckpt_{epoch}',\n",
    "        save_weights_only=True),\n",
    "    tf.keras.callbacks.EarlyStopping(\n",
    "        monitor='loss',\n",
    "        patience=5,\n",
    "        verbose=1,\n",
    "        restore_best_weights=True),\n",
    "]"
   ]
  },
  {
   "cell_type": "code",
   "execution_count": null,
   "id": "b2d5d638",
   "metadata": {
    "id": "Q6SU0zDsUl_K",
    "outputId": "7f59e6fd-479e-4014-d1be-323e813acc58",
    "papermill": {
     "duration": null,
     "end_time": null,
     "exception": null,
     "start_time": null,
     "status": "pending"
    },
    "tags": []
   },
   "outputs": [],
   "source": [
    "\n",
    "epochs = 30\n",
    "\n",
    "model.fit(train_ds, epochs=epochs, callbacks=callbacks,)"
   ]
  },
  {
   "cell_type": "markdown",
   "id": "20434fd5",
   "metadata": {
    "id": "Vbj-AmRCbk8W",
    "papermill": {
     "duration": null,
     "end_time": null,
     "exception": null,
     "start_time": null,
     "status": "pending"
    },
    "tags": []
   },
   "source": [
    "We will use this model to generate a note"
   ]
  },
  {
   "cell_type": "code",
   "execution_count": null,
   "id": "1817c1dc",
   "metadata": {
    "id": "1Utkk1_hcCS8",
    "papermill": {
     "duration": null,
     "end_time": null,
     "exception": null,
     "start_time": null,
     "status": "pending"
    },
    "tags": []
   },
   "outputs": [],
   "source": [
    "def predict_next_note(\n",
    "    notes: np.ndarray,\n",
    "    model: tf.keras.Model,\n",
    "    temperature: float = 1.0) -> tuple[int, float, float]:\n",
    "  \"\"\"Generates a note as a tuple of (pitch, step, duration), using a trained sequence model.\"\"\"\n",
    "\n",
    "  assert temperature > 0\n",
    "\n",
    "  # Add batch dimension\n",
    "  inputs = tf.expand_dims(notes, 0)\n",
    "\n",
    "  predictions = model.predict(inputs)\n",
    "  pitch_logits = predictions['pitch']\n",
    "  step = predictions['step']\n",
    "  duration = predictions['duration']\n",
    "\n",
    "  pitch_logits /= temperature\n",
    "  pitch = tf.random.categorical(pitch_logits, num_samples=1)\n",
    "  pitch = tf.squeeze(pitch, axis=-1)\n",
    "  duration = tf.squeeze(duration, axis=-1)\n",
    "  step = tf.squeeze(step, axis=-1)\n",
    "\n",
    "  # `step` and `duration` values should be non-negative\n",
    "  step = tf.maximum(0, step)\n",
    "  duration = tf.maximum(0, duration)\n",
    "\n",
    "  return int(pitch), float(step), float(duration)"
   ]
  },
  {
   "cell_type": "code",
   "execution_count": null,
   "id": "15d82fb2",
   "metadata": {
    "id": "Dstu980ycD1z",
    "outputId": "469e8a69-5a3d-4066-e4e9-b54cc9ec2a48",
    "papermill": {
     "duration": null,
     "end_time": null,
     "exception": null,
     "start_time": null,
     "status": "pending"
    },
    "tags": []
   },
   "outputs": [],
   "source": [
    "temperature = 2.0\n",
    "num_predictions = 120\n",
    "\n",
    "sample_notes = np.stack([raw_notes[key] for key in key_order], axis=1)\n",
    "\n",
    "# The initial sequence of notes; pitch is normalized similar to training\n",
    "# sequences\n",
    "input_notes = (\n",
    "    sample_notes[:seq_length] / np.array([vocab_size, 1, 1]))\n",
    "\n",
    "generated_notes = []\n",
    "prev_start = 0\n",
    "for _ in range(num_predictions):\n",
    "  pitch, step, duration = predict_next_note(input_notes, model, temperature)\n",
    "  start = prev_start + step\n",
    "  end = start + duration\n",
    "  input_note = (pitch, step, duration)\n",
    "  generated_notes.append((*input_note, start, end))\n",
    "  input_notes = np.delete(input_notes, 0, axis=0)\n",
    "  input_notes = np.append(input_notes, np.expand_dims(input_note, 0), axis=0)\n",
    "  prev_start = start\n",
    "\n",
    "generated_notes = pd.DataFrame(\n",
    "    generated_notes, columns=(*key_order, 'start', 'end'))"
   ]
  },
  {
   "cell_type": "code",
   "execution_count": null,
   "id": "7a954458",
   "metadata": {
    "id": "YEIh_IR0cUcd",
    "outputId": "ae0a1b11-dad6-4e94-949a-ce7578b14262",
    "papermill": {
     "duration": null,
     "end_time": null,
     "exception": null,
     "start_time": null,
     "status": "pending"
    },
    "tags": []
   },
   "outputs": [],
   "source": [
    "out_audio = 'output.mid'\n",
    "out_pm = notes_to_midi(\n",
    "    generated_notes, out_file=out_audio, instrument_name=instrument_name)\n",
    "display_audio(out_pm)"
   ]
  },
  {
   "cell_type": "code",
   "execution_count": null,
   "id": "3f0fb7ba",
   "metadata": {
    "id": "OJ63-C9Scr5R",
    "outputId": "635821c6-8e0b-4e53-beb9-5b7420b73f6f",
    "papermill": {
     "duration": null,
     "end_time": null,
     "exception": null,
     "start_time": null,
     "status": "pending"
    },
    "tags": []
   },
   "outputs": [],
   "source": [
    "out_file = 'output.mid'\n",
    "out_pm = notes_to_midi(\n",
    "    generated_notes, out_file=out_file, instrument_name=instrument_name)\n",
    "display_audio(out_pm)"
   ]
  }
 ],
 "metadata": {
  "kernelspec": {
   "display_name": "Python 3",
   "language": "python",
   "name": "python3"
  },
  "language_info": {
   "codemirror_mode": {
    "name": "ipython",
    "version": 3
   },
   "file_extension": ".py",
   "mimetype": "text/x-python",
   "name": "python",
   "nbconvert_exporter": "python",
   "pygments_lexer": "ipython3",
   "version": "3.10.12"
  },
  "papermill": {
   "default_parameters": {},
   "duration": 115.948828,
   "end_time": "2023-10-27T18:28:32.916671",
   "environment_variables": {},
   "exception": true,
   "input_path": "__notebook__.ipynb",
   "output_path": "__notebook__.ipynb",
   "parameters": {},
   "start_time": "2023-10-27T18:26:36.967843",
   "version": "2.4.0"
  }
 },
 "nbformat": 4,
 "nbformat_minor": 5
}
